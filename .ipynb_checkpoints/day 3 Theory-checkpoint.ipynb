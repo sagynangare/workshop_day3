{
 "cells": [
  {
   "cell_type": "markdown",
   "metadata": {},
   "source": [
    "#  Decision Trees\n",
    "\n",
    "**Types of Decision Trees**\n",
    "\n",
    "1. Classification DT: This will determine a set of logical if-then conditions to classify the problem\n",
    "   eg: type flower\n",
    "\n",
    "2. Regression DT:It is used when we have numeric/continous data\n",
    "    eg: measure height  of the son and father\n",
    "\n",
    "### Entropy: It is the measure of randomness in dataset(It measure purity in data split)\n",
    "\n",
    "### Information Gain: It is the measure of decrease in entropy after the dataset is split.\n",
    "\n",
    "High Entropy(E1)------> Low Entropy(E2)\n",
    "\n",
    "Info_Gain=E1-E2\n",
    "\n",
    "**```Entropy(E) = E(i=1 to k)(P(value)*log2(p(value)))```**\n",
    "\n",
    "k=no of values in dataset\n",
    "p(value)=Percentage of value\n",
    "\n",
    "CART=> Classification and regression Trees\n",
    "\n",
    "\n",
    ">> **Ensemble Techniques**\n",
    "\n",
    "1. Bagging:\n",
    "\n",
    "    Combination of multiple decision trees and decision will be taken on majority vote or Mean/Median result\n",
    "    eg: Random Forest\n",
    "    \n",
    "2. Boosting:\n",
    "    Boosting is the process that uses a set of machine learning algorithm (Decision Tree) to combine weak learners to form strong learners in order to increase the accuracy of model.\n",
    "    eg: Gradient Boosting, XGBoost, ADABoost etc\n"
   ]
  }
 ],
 "metadata": {
  "kernelspec": {
   "display_name": "Python 3",
   "language": "python",
   "name": "python3"
  },
  "language_info": {
   "codemirror_mode": {
    "name": "ipython",
    "version": 3
   },
   "file_extension": ".py",
   "mimetype": "text/x-python",
   "name": "python",
   "nbconvert_exporter": "python",
   "pygments_lexer": "ipython3",
   "version": "3.7.4"
  }
 },
 "nbformat": 4,
 "nbformat_minor": 4
}
